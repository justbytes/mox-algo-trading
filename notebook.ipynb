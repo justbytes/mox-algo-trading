{
 "cells": [
  {
   "cell_type": "code",
   "execution_count": 10,
   "metadata": {},
   "outputs": [],
   "source": [
    "# from moccasin import setup_notebook\n",
    "\n",
    "# setup_notebook()"
   ]
  },
  {
   "cell_type": "code",
   "execution_count": 11,
   "metadata": {},
   "outputs": [
    {
     "name": "stdout",
     "output_type": "stream",
     "text": [
      "mainnet-fork\n"
     ]
    }
   ],
   "source": [
    "from moccasin.config import get_active_network\n",
    "\n",
    "active_network = get_active_network()\n",
    "print(active_network.name)"
   ]
  },
  {
   "cell_type": "code",
   "execution_count": 12,
   "metadata": {},
   "outputs": [
    {
     "name": "stdout",
     "output_type": "stream",
     "text": [
      "Starting setup script\n",
      "300000000\n",
      "300000000\n"
     ]
    }
   ],
   "source": [
    "import boa\n",
    "from moccasin.config import get_config\n",
    "from boa.contracts.abi.abi_contract import ABIContract\n",
    "from typing import Tuple\n",
    "\n",
    "STARTING_ETH_BALANCE = int(1000e18)\n",
    "STARTING_USDC_BALANCE = int(100e6)\n",
    "STARTING_WETH_BALANCE = int(1e18)\n",
    "\n",
    "def _add_eth_balance():\n",
    "    boa.env.set_balance(boa.env.eoa, STARTING_ETH_BALANCE)\n",
    "\n",
    "def _add_token_balance(usdc, weth, active_network):\n",
    "   \n",
    "    weth.deposit(value=STARTING_WETH_BALANCE)\n",
    "    our_address = boa.env.eoa\n",
    "    \n",
    "    with boa.env.prank(usdc.owner()):\n",
    "        usdc.updateMasterMinter(our_address)\n",
    "        \n",
    "    usdc.configureMinter(our_address, STARTING_USDC_BALANCE)\n",
    "    usdc.mint(our_address, STARTING_USDC_BALANCE)\n",
    "    \n",
    "    print(usdc.balanceOf(our_address))\n",
    "    \n",
    "    \n",
    "def setup_script() -> Tuple[ABIContract,ABIContract,ABIContract,ABIContract]:\n",
    "    print(\"Starting setup script\")\n",
    "    \n",
    "    active_network = get_config().get_active_network()\n",
    "    \n",
    "    usdc = active_network.manifest_named(\"usdc\")\n",
    "    weth = active_network.manifest_named(\"weth\")\n",
    "\n",
    "    if active_network.is_local_or_forked_network():\n",
    "        _add_eth_balance()\n",
    "        _add_token_balance(usdc, weth, active_network)\n",
    "\n",
    "    print(usdc.balanceOf(boa.env.eoa))\n",
    " \n",
    "def moccasin_main():\n",
    "    setup_script()\n",
    "\n",
    "moccasin_main()"
   ]
  },
  {
   "cell_type": "code",
   "execution_count": 13,
   "metadata": {},
   "outputs": [],
   "source": [
    "usdc = active_network.manifest_named(\"usdc\")\n",
    "weth = active_network.manifest_named(\"weth\")"
   ]
  },
  {
   "cell_type": "code",
   "execution_count": 14,
   "metadata": {},
   "outputs": [
    {
     "data": {
      "text/plain": [
       "3000000000000000000"
      ]
     },
     "execution_count": 14,
     "metadata": {},
     "output_type": "execute_result"
    }
   ],
   "source": [
    "usdc.balanceOf(boa.env.eoa)\n",
    "weth.balanceOf(boa.env.eoa)"
   ]
  }
 ],
 "metadata": {
  "kernelspec": {
   "display_name": ".venv",
   "language": "python",
   "name": "python3"
  },
  "language_info": {
   "codemirror_mode": {
    "name": "ipython",
    "version": 3
   },
   "file_extension": ".py",
   "mimetype": "text/x-python",
   "name": "python",
   "nbconvert_exporter": "python",
   "pygments_lexer": "ipython3",
   "version": "3.12.3"
  }
 },
 "nbformat": 4,
 "nbformat_minor": 2
}

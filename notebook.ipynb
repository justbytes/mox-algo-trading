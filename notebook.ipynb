{
 "cells": [
  {
   "cell_type": "code",
   "execution_count": 1,
   "metadata": {},
   "outputs": [],
   "source": [
    "from moccasin import setup_notebook\n",
    "\n",
    "setup_notebook()"
   ]
  },
  {
   "cell_type": "code",
   "execution_count": 2,
   "metadata": {},
   "outputs": [
    {
     "name": "stdout",
     "output_type": "stream",
     "text": [
      "mainnet-fork\n"
     ]
    }
   ],
   "source": [
    "from moccasin.config import get_active_network\n",
    "\n",
    "active_network = get_active_network()\n",
    "print(active_network.name)"
   ]
  },
  {
   "cell_type": "code",
   "execution_count": 3,
   "metadata": {},
   "outputs": [
    {
     "name": "stdout",
     "output_type": "stream",
     "text": [
      "Starting setup script\n",
      "100000000\n",
      "100000000\n"
     ]
    }
   ],
   "source": [
    "import boa\n",
    "from moccasin.config import get_config\n",
    "from boa.contracts.abi.abi_contract import ABIContract\n",
    "from typing import Tuple\n",
    "\n",
    "TARGET_ALLOCATIONS = {\"usdc\": 0.3, \"weth\": 0.7}\n",
    "STARTING_ETH_BALANCE = int(1000e18)\n",
    "STARTING_USDC_BALANCE = int(100e6)\n",
    "STARTING_WETH_BALANCE = int(1e18)\n",
    "\n",
    "def _add_eth_balance():\n",
    "    boa.env.set_balance(boa.env.eoa, STARTING_ETH_BALANCE)\n",
    "\n",
    "def _add_token_balance(usdc, weth, active_network):\n",
    "   \n",
    "    weth.deposit(value=STARTING_WETH_BALANCE)\n",
    "    our_address = boa.env.eoa\n",
    "    \n",
    "    with boa.env.prank(usdc.owner()):\n",
    "        usdc.updateMasterMinter(our_address)\n",
    "        \n",
    "    usdc.configureMinter(our_address, STARTING_USDC_BALANCE)\n",
    "    usdc.mint(our_address, STARTING_USDC_BALANCE)\n",
    "    \n",
    "    \n",
    "def setup_script() -> Tuple[ABIContract,ABIContract,ABIContract,ABIContract]:\n",
    "    print(\"Starting setup script\")\n",
    "    \n",
    "    active_network = get_config().get_active_network()\n",
    "    \n",
    "    usdc = active_network.manifest_named(\"usdc\")\n",
    "    weth = active_network.manifest_named(\"weth\")\n",
    "\n",
    "    if active_network.is_local_or_forked_network():\n",
    "        _add_eth_balance()\n",
    "        _add_token_balance(usdc, weth, active_network)\n",
    "\n",
    "    print(usdc.balanceOf(boa.env.eoa))\n",
    " \n",
    "def moccasin_main():\n",
    "    setup_script()\n",
    "\n",
    "moccasin_main()"
   ]
  },
  {
   "cell_type": "code",
   "execution_count": 4,
   "metadata": {},
   "outputs": [],
   "source": [
    "usdc = active_network.manifest_named(\"usdc\")\n",
    "weth = active_network.manifest_named(\"weth\")"
   ]
  },
  {
   "cell_type": "code",
   "execution_count": 5,
   "metadata": {},
   "outputs": [
    {
     "data": {
      "text/plain": [
       "1000000000000000000"
      ]
     },
     "execution_count": 5,
     "metadata": {},
     "output_type": "execute_result"
    }
   ],
   "source": [
    "usdc.balanceOf(boa.env.eoa)\n",
    "weth.balanceOf(boa.env.eoa)"
   ]
  },
  {
   "cell_type": "code",
   "execution_count": 6,
   "metadata": {},
   "outputs": [
    {
     "name": "stdout",
     "output_type": "stream",
     "text": [
      "0x87870Bca3F3fD6335C3F4ce8392D69350B4fA4E2\n",
      "<pool interface at 0x87870Bca3F3fD6335C3F4ce8392D69350B4fA4E2>\n"
     ]
    }
   ],
   "source": [
    "from moccasin.config import get_or_initialize_config\n",
    "\n",
    "config = get_or_initialize_config()\n",
    "config.reload()\n",
    "active_network = config.get_active_network()\n",
    "\n",
    "aavev3_pool_address_provider = active_network.manifest_named(\"aavev3_pool_address_provider\")\n",
    "pool_address = aavev3_pool_address_provider.getPool()\n",
    "\n",
    "\n",
    "print(pool_address)\n",
    "\n",
    "config.reload()\n",
    "active_network = config.get_active_network()\n",
    "pool_contract = active_network.manifest_named(\"pool\", address=pool_address)\n",
    "print(pool_contract)\n"
   ]
  },
  {
   "cell_type": "code",
   "execution_count": 7,
   "metadata": {},
   "outputs": [
    {
     "data": {
      "text/plain": [
       "<pool interface at 0x87870Bca3F3fD6335C3F4ce8392D69350B4fA4E2>"
      ]
     },
     "execution_count": 7,
     "metadata": {},
     "output_type": "execute_result"
    }
   ],
   "source": [
    "pool_contract "
   ]
  },
  {
   "cell_type": "code",
   "execution_count": 8,
   "metadata": {},
   "outputs": [
    {
     "name": "stdout",
     "output_type": "stream",
     "text": [
      "Depositing 100000000 into 0x87870Bca3F3fD6335C3F4ce8392D69350B4fA4E2\n",
      "Depositing 1000000000000000000 into 0x87870Bca3F3fD6335C3F4ce8392D69350B4fA4E2\n",
      "User account data:\n",
      "        totalCollateralBase: 342743021500\n",
      "        totalDebtBase: 0\n",
      "        availableBorrowsBase: 275325469171\n",
      "        currentLiquidationThreshold: 8285\n",
      "        ltv: 8033\n",
      "        healthFactor: 115792089237316195423570985008687907853269984665640564039457584007913129639935\n",
      "          \n"
     ]
    }
   ],
   "source": [
    "REFERRAL_CODE = 0   \n",
    "\n",
    "def deposit(pool_contract, token, amount):\n",
    "    allowed_amount = token.allowance(boa.env.eoa, pool_contract.address)\n",
    "    if allowed_amount < amount:\n",
    "        token.approve(pool_contract.address, amount)\n",
    "    print(f\"Depositing {amount} into {pool_contract.address}\")\n",
    "    pool_contract.supply(token.address, amount, boa.env.eoa, REFERRAL_CODE)\n",
    "    \n",
    "\n",
    "\n",
    "usdc_balance = usdc.balanceOf(boa.env.eoa)\n",
    "weth_balance = weth.balanceOf(boa.env.eoa)\n",
    "if usdc_balance > 0:\n",
    "    deposit(pool_contract, usdc, usdc_balance)\n",
    "if weth_balance > 0:\n",
    "    deposit(pool_contract, weth, weth_balance)\n",
    "    \n",
    "(\n",
    "    totalCollateralBase,\n",
    "    totalDebtBase,\n",
    "    availableBorrowsBase,\n",
    "    currentLiquidationThreshold,\n",
    "    ltv,\n",
    "    healthFactor,\n",
    ") = pool_contract.getUserAccountData(boa.env.eoa)\n",
    "print(f\"\"\"User account data:\n",
    "        totalCollateralBase: {totalCollateralBase}\n",
    "        totalDebtBase: {totalDebtBase}\n",
    "        availableBorrowsBase: {availableBorrowsBase}\n",
    "        currentLiquidationThreshold: {currentLiquidationThreshold}\n",
    "        ltv: {ltv}\n",
    "        healthFactor: {healthFactor}\n",
    "          \"\"\")\n"
   ]
  },
  {
   "cell_type": "code",
   "execution_count": 9,
   "metadata": {},
   "outputs": [
    {
     "name": "stdout",
     "output_type": "stream",
     "text": [
      "[('aEthWETH', Address('0x4d5F47FA6A74757f35C14fD3a6Ef8E3C9BC514E8')), ('aEthwstETH', Address('0x0B925eD163218f6662a35e0f0371Ac234f9E9371')), ('aEthWBTC', Address('0x5Ee5bf7ae06D1Be5997A1A72006FE6C607eC6DE8')), ('aEthUSDC', Address('0x98C23E9d8f34FEFb1B7BD6a91B7FF122F4e16F5c')), ('aEthDAI', Address('0x018008bfb33d285247A21d44E50697654f754e63')), ('aEthLINK', Address('0x5E8C8A7243651DB1384C0dDfDbE39761E8e7E51a')), ('aEthAAVE', Address('0xA700b4eB416Be35b2911fd5Dee80678ff64fF6C9')), ('aEthcbETH', Address('0x977b6fc5dE62598B08C85AC8Cf2b745874E8b78c')), ('aEthUSDT', Address('0x23878914EFE38d27C4D67Ab83ed1b93A74D4086a')), ('aEthrETH', Address('0xCc9EE9483f662091a1de4795249E24aC0aC2630f')), ('aEthLUSD', Address('0x3Fe6a295459FAe07DF8A0ceCC36F37160FE86AA9')), ('aEthCRV', Address('0x7B95Ec873268a6BFC6427e7a28e396Db9D0ebc65')), ('aEthMKR', Address('0x8A458A9dc9048e005d22849F470891b840296619')), ('aEthSNX', Address('0xC7B4c17861357B8ABB91F25581E7263E08DCB59c')), ('aEthBAL', Address('0x2516E7B3F76294e03C42AA4c5b5b4DCE9C436fB8')), ('aEthUNI', Address('0xF6D2224916DDFbbab6e6bd0D1B7034f4Ae0CaB18')), ('aEthLDO', Address('0x9A44fd41566876A39655f74971a3A6eA0a17a454')), ('aEthENS', Address('0x545bD6c032eFdde65A377A6719DEF2796C8E0f2e')), ('aEth1INCH', Address('0x71Aef7b30728b9BB371578f36c5A1f1502a5723e')), ('aEthFRAX', Address('0xd4e245848d6E1220DBE62e155d89fa327E43CB06')), ('aEthGHO', Address('0x00907f9921424583e7ffBfEdf84F92B7B2Be4977')), ('aEthRPL', Address('0xB76CF92076adBF1D9C39294FA8e7A67579FDe357')), ('aEthsDAI', Address('0x4C612E3B15b96Ff9A6faED838F8d07d479a8dD4c')), ('aEthSTG', Address('0x1bA9843bD4327c6c77011406dE5fA8749F7E3479')), ('aEthKNC', Address('0x5b502e3796385E1e9755d7043B9C945C3aCCeC9C')), ('aEthFXS', Address('0x82F9c5ad306BBa1AD0De49bB5FA6F01bf61085ef')), ('aEthcrvUSD', Address('0xb82fa9f31612989525992FCfBB09AB22Eff5c85A')), ('aEthPYUSD', Address('0x0C0d01AbF3e6aDfcA0989eBbA9d6e85dD58EaB1E')), ('aEthweETH', Address('0xBdfa7b7893081B35Fb54027489e2Bc7A38275129')), ('aEthosETH', Address('0x927709711794F3De5DdBF1D176bEE2D55Ba13c21')), ('aEthUSDe', Address('0x4F5923Fc5FD4a93352581b38B7cD26943012DECF')), ('aEthETHx', Address('0x1c0E06a0b1A4c160c17545FF2A951bfcA57C0002')), ('aEthsUSDe', Address('0x4579a27aF00A62C0EB156349f31B345c08386419')), ('aEthtBTC', Address('0x10Ac93971cdb1F5c778144084242374473c350Da')), ('aEthcbBTC', Address('0x5c647cE0Ae10658ec44FA4E11A51c96e94efd1Dd')), ('aEthUSDS', Address('0x32a6268f9Ba3642Dda7892aDd74f1D34469A4259')), ('aEthrsETH', Address('0x2D62109243b87C4bA3EE7bA1D91B0dD0A074d7b1'))]\n"
     ]
    }
   ],
   "source": [
    "# goal 30% USDC and 70% WETH\n",
    "config.reload()\n",
    "active_network = config.get_active_network()\n",
    "\n",
    "\n",
    "aavev3_protocol_data_provider = active_network.manifest_named(\"aavev3_protocol_data_provider\")\n",
    "a_tokens = aavev3_protocol_data_provider.getAllATokens()\n",
    "print(a_tokens)"
   ]
  },
  {
   "cell_type": "code",
   "execution_count": 10,
   "metadata": {},
   "outputs": [
    {
     "name": "stdout",
     "output_type": "stream",
     "text": [
      "<weth interface at 0x4d5F47FA6A74757f35C14fD3a6Ef8E3C9BC514E8>\n",
      "<usdc interface at 0x98C23E9d8f34FEFb1B7BD6a91B7FF122F4e16F5c>\n"
     ]
    }
   ],
   "source": [
    "for a_token in a_tokens:\n",
    "    if \"WETH\" in a_token[0]:\n",
    "        a_weth = active_network.manifest_named(\"weth\", address=a_token[1])\n",
    "    if \"USDC\" in a_token[0]:\n",
    "        a_usdc = active_network.manifest_named(\"usdc\", address=a_token[1])\n",
    "print(a_weth)\n",
    "print(a_usdc)\n"
   ]
  },
  {
   "cell_type": "code",
   "execution_count": 11,
   "metadata": {},
   "outputs": [
    {
     "name": "stdout",
     "output_type": "stream",
     "text": [
      "100.0\n",
      "1.0\n"
     ]
    }
   ],
   "source": [
    "# Get how much tokens are worth to figure out the portfolio weights\n",
    "\n",
    "a_usdc_balance = a_usdc.balanceOf(boa.env.eoa)\n",
    "a_weth_balance = a_weth.balanceOf(boa.env.eoa) \n",
    "\n",
    "a_usdc_balance_normalized = a_usdc_balance / 1e6\n",
    "a_weth_balance_normalized = a_weth_balance / 1e18\n",
    "\n",
    "print(a_usdc_balance_normalized)\n",
    "print(a_weth_balance_normalized)\n"
   ]
  },
  {
   "cell_type": "code",
   "execution_count": 12,
   "metadata": {},
   "outputs": [
    {
     "name": "stdout",
     "output_type": "stream",
     "text": [
      "1.00000215\n",
      "3327.43\n"
     ]
    }
   ],
   "source": [
    "config.reload()\n",
    "\n",
    "def get_price(feed_name: str) -> float:\n",
    "    active_network = get_active_network()\n",
    "    price_feed = active_network.manifest_named(feed_name)\n",
    "    price = price_feed.latestAnswer()\n",
    "    decimals = price_feed.decimals()\n",
    "    decimals_normalized = 10**decimals\n",
    "    return price / decimals_normalized\n",
    "    \n",
    "usdc_price = get_price(\"usdc_usd_price_feed\")\n",
    "weth_price = get_price(\"eth_usd_price_feed\")\n",
    "\n",
    "print(usdc_price)\n",
    "print(weth_price)   "
   ]
  },
  {
   "cell_type": "code",
   "execution_count": 23,
   "metadata": {},
   "outputs": [
    {
     "name": "stdout",
     "output_type": "stream",
     "text": [
      "True\n",
      "0.3\n",
      "0.7\n"
     ]
    }
   ],
   "source": [
    "usdc_value = a_usdc_balance_normalized * usdc_price\n",
    "weth_value = a_weth_balance_normalized * weth_price\n",
    "total_value = usdc_value + weth_value\n",
    "\n",
    "target_usdc_value = 0.3 \n",
    "target_weth_value = 0.7 \n",
    "\n",
    "usdc_percent_allocation = usdc_value / total_value\n",
    "weth_percent_allocation = weth_value / total_value\n",
    "\n",
    "BUFFER = 0.1\n",
    "\n",
    "needs_rebalancing = (\n",
    "    abs(usdc_percent_allocation - target_usdc_value) > BUFFER\n",
    "    or abs(weth_percent_allocation - target_weth_value) > BUFFER\n",
    ")\n",
    "\n",
    "print(needs_rebalancing)\n",
    "\n",
    "print(target_usdc_value)\n",
    "print(target_weth_value)\n"
   ]
  },
  {
   "cell_type": "code",
   "execution_count": 14,
   "metadata": {},
   "outputs": [],
   "source": [
    "def calculate_rebalancing_trades(\n",
    "    usdc_data: dict,  # {\"balance\": float, \"price\": float, \"contract\": Contract}\n",
    "    weth_data: dict,  # {\"balance\": float, \"price\": float, \"contract\": Contract}\n",
    "    target_allocations: dict[str, float],  # {\"usdc\": 0.3, \"weth\": 0.7}\n",
    ") -> dict[str, dict]:\n",
    "    \"\"\"\n",
    "    Calculate the trades needed to rebalance a portfolio of USDC and WETH.\n",
    "\n",
    "    Args:\n",
    "        usdc_data: Dict containing USDC balance, price and contract\n",
    "        weth_data: Dict containing WETH balance, price and contract\n",
    "        target_allocations: Dict of token symbol to target allocation (must sum to 1)\n",
    "\n",
    "    Returns:\n",
    "        Dict of token symbol to dict containing contract and trade amount:\n",
    "            {\"usdc\": {\"contract\": Contract, \"trade\": int},\n",
    "             \"weth\": {\"contract\": Contract, \"trade\": int}}\n",
    "    \"\"\"\n",
    "    # Calculate current values\n",
    "    usdc_value = usdc_data[\"balance\"] * usdc_data[\"price\"]\n",
    "    weth_value = weth_data[\"balance\"] * weth_data[\"price\"]\n",
    "    total_value = usdc_value + weth_value\n",
    "\n",
    "    # Calculate target values\n",
    "    target_usdc_value = total_value * target_allocations[\"usdc\"]\n",
    "    target_weth_value = total_value * target_allocations[\"weth\"]\n",
    "\n",
    "    # Calculate trades needed in USD\n",
    "    usdc_trade_usd = target_usdc_value - usdc_value\n",
    "    weth_trade_usd = target_weth_value - weth_value\n",
    "\n",
    "    # Convert to token amounts\n",
    "    return {\n",
    "        \"usdc\": {\n",
    "            \"contract\": usdc_data[\"contract\"],\n",
    "            \"trade\": usdc_trade_usd / usdc_data[\"price\"],\n",
    "        },\n",
    "        \"weth\": {\n",
    "            \"contract\": weth_data[\"contract\"],\n",
    "            \"trade\": weth_trade_usd / weth_data[\"price\"],\n",
    "        },\n",
    "    }"
   ]
  },
  {
   "cell_type": "code",
   "execution_count": 15,
   "metadata": {},
   "outputs": [],
   "source": [
    "if needs_rebalancing:\n",
    "    trades_tokens = calculate_rebalancing_trades(\n",
    "        {\"balance\": a_usdc_balance_normalized, \"price\": usdc_price, \"contract\": usdc},\n",
    "        {\"balance\": a_weth_balance_normalized, \"price\": weth_price, \"contract\": weth},\n",
    "        TARGET_ALLOCATIONS,\n",
    "    )\n",
    "    \n",
    "    trades_tokens[\"usdc\"][\"a_token\"] = a_usdc\n",
    "    trades_tokens[\"weth\"][\"a_token\"] = a_weth\n",
    "    \n",
    "    \n",
    "    \n",
    "    "
   ]
  },
  {
   "cell_type": "code",
   "execution_count": 16,
   "metadata": {},
   "outputs": [],
   "source": [
    "trades_token_to_buy = (\n",
    "    trades_tokens[\"usdc\"]\n",
    "    if trades_tokens[\"usdc\"][\"trade\"] > 0\n",
    "    else trades_tokens[\"weth\"]\n",
    ")\n",
    "\n",
    "trades_token_to_sell = (\n",
    "    trades_tokens[\"usdc\"]\n",
    "    if trades_tokens[\"usdc\"][\"trade\"] <= 0\n",
    "    else trades_tokens[\"weth\"]\n",
    ")\n",
    "\n",
    "\n",
    "amount_in = abs(\n",
    "    int(\n",
    "        trades_token_to_sell[\"trade\"]\n",
    "        * (10 ** trades_token_to_sell[\"contract\"].decimals())\n",
    "    )\n",
    ")\n",
    "\n",
    "amount_out = int(\n",
    "    trades_token_to_buy[\"trade\"]\n",
    "    * ((10 ** trades_token_to_buy[\"contract\"].decimals()) * 0.95)\n",
    ")\n",
    "\n"
   ]
  },
  {
   "cell_type": "code",
   "execution_count": 17,
   "metadata": {},
   "outputs": [
    {
     "data": {
      "text/plain": [
       "1000000000000000000"
      ]
     },
     "execution_count": 17,
     "metadata": {},
     "output_type": "execute_result"
    }
   ],
   "source": [
    "config.reload()\n",
    "\n",
    "\n",
    "success = trades_token_to_sell[\"a_token\"].approve(pool_contract.address, amount_in)\n",
    "\n",
    "withdraw_amount = trades_token_to_sell[\"a_token\"].balanceOf(boa.env.eoa)\n",
    "\n",
    "pool_contract.withdraw(\n",
    "    trades_token_to_sell[\"contract\"].address, withdraw_amount, boa.env.eoa\n",
    ")\n",
    "\n"
   ]
  },
  {
   "cell_type": "code",
   "execution_count": 18,
   "metadata": {},
   "outputs": [],
   "source": [
    "def swap_exact_input_single(\n",
    "    swap_router,\n",
    "    token_in_contract,\n",
    "    token_out_contract,\n",
    "    amount_in: int,\n",
    "    amount_out_min: int,\n",
    "    pool_fee: int = 3000,  # 0.3% fee tier\n",
    ") -> int:\n",
    "    \"\"\"\n",
    "    Swaps a fixed amount of token_in for a maximum possible amount of token_out\n",
    "\n",
    "    Args:\n",
    "        swap_router: ISwapRouter contract\n",
    "        token_in_contract: Input token contract\n",
    "        token_out_contract: Output token contract\n",
    "        amount_in: Exact amount of input token to swap\n",
    "        pool_fee: Fee tier (default 0.3% = 3000)\n",
    "\n",
    "    Returns:\n",
    "        amount_out: Amount of output token received\n",
    "    \"\"\"\n",
    "    # First approve router to spend token\n",
    "    token_in_contract.approve(swap_router.address, amount_in)\n",
    "\n",
    "    # struct ExactInputSingleParams {\n",
    "    #     address tokenIn;\n",
    "    #     address tokenOut;\n",
    "    #     uint24 fee;\n",
    "    #     address recipient;\n",
    "    #     uint256 amountIn;\n",
    "    #     uint256 amountOutMinimum;\n",
    "    #     uint160 sqrtPriceLimitX96;\n",
    "    # }\n",
    "    amount_out = swap_router.exactInputSingle(\n",
    "        (\n",
    "            token_in_contract.address,\n",
    "            token_out_contract.address,\n",
    "            pool_fee,\n",
    "            boa.env.eoa,\n",
    "            int(amount_in),\n",
    "            int(amount_out_min),\n",
    "            0,\n",
    "        )\n",
    "    )\n",
    "    return amount_out"
   ]
  },
  {
   "cell_type": "code",
   "execution_count": 19,
   "metadata": {},
   "outputs": [
    {
     "name": "stdout",
     "output_type": "stream",
     "text": [
      "Time to swap!\n",
      "Let's swap 0.27896269778778227 WETH for at least 881.815511 USDC\n"
     ]
    }
   ],
   "source": [
    "config.reload()\n",
    "active_network = config.get_active_network()\n",
    "uniswap_swap_router = active_network.manifest_named(\"uniswap_swap_router\")\n",
    "\n",
    "success = trades_token_to_sell[\"contract\"].approve(uniswap_swap_router.address, amount_in)\n",
    "\n",
    "print(\"Time to swap!\")\n",
    "print(\n",
    "    f\"Let's swap {amount_in / (10 ** trades_token_to_sell[\"contract\"].decimals())} {trades_token_to_sell[\"contract\"].symbol()} for at least {amount_out / (10 ** trades_token_to_buy[\"contract\"].decimals())} {trades_token_to_buy[\"contract\"].symbol()}\"\n",
    ")\n",
    "\n",
    "amount_out = swap_exact_input_single(\n",
    "            swap_router=uniswap_swap_router,\n",
    "            token_in_contract=trades_token_to_sell[\"contract\"],\n",
    "            token_out_contract=trades_token_to_buy[\"contract\"],\n",
    "            amount_in=amount_in,\n",
    "            amount_out_min=amount_out,\n",
    "        )\n"
   ]
  },
  {
   "cell_type": "code",
   "execution_count": 20,
   "metadata": {},
   "outputs": [
    {
     "name": "stdout",
     "output_type": "stream",
     "text": [
      "Depositing 926969341 into 0x87870Bca3F3fD6335C3F4ce8392D69350B4fA4E2\n",
      "Depositing 721037302212217728 into 0x87870Bca3F3fD6335C3F4ce8392D69350B4fA4E2\n"
     ]
    }
   ],
   "source": [
    "amount = usdc.balanceOf(boa.env.eoa)\n",
    "deposit(pool_contract, usdc, amount)\n",
    "amount = weth.balanceOf(boa.env.eoa)\n",
    "deposit(pool_contract, weth, amount)\n"
   ]
  },
  {
   "cell_type": "code",
   "execution_count": 25,
   "metadata": {},
   "outputs": [
    {
     "name": "stdout",
     "output_type": "stream",
     "text": [
      "0.2997430774983193\n",
      "0.7002569225016807\n",
      "2399.2011504999996\n",
      "1026.9715489840833\n"
     ]
    }
   ],
   "source": [
    "a_usdc_balance = a_usdc.balanceOf(boa.env.eoa)\n",
    "a_weth_balance = a_weth.balanceOf(boa.env.eoa)\n",
    "\n",
    "a_usdc_balance_normalized = a_usdc_balance / 1e6\n",
    "a_weth_balance_normalized = a_weth_balance / 1e18\n",
    "\n",
    "usdc_value = a_usdc_balance_normalized * usdc_price\n",
    "weth_value = a_weth_balance_normalized * weth_price\n",
    "total_value = usdc_value + weth_value\n",
    "\n",
    "target_usdc_value = 0.3 \n",
    "target_weth_value = 0.7 \n",
    "\n",
    "usdc_percent_allocation = usdc_value / total_value\n",
    "weth_percent_allocation = weth_value / total_value\n",
    "\n",
    "\n",
    "\n",
    "print(usdc_percent_allocation)\n",
    "print(weth_percent_allocation)\n",
    "print(a_weth.balanceOf(boa.env.eoa) / 1e18 * weth_price)\n",
    "print(a_usdc.balanceOf(boa.env.eoa) / 1e6 * usdc_price)\n",
    "\n"
   ]
  }
 ],
 "metadata": {
  "kernelspec": {
   "display_name": ".venv",
   "language": "python",
   "name": "python3"
  },
  "language_info": {
   "codemirror_mode": {
    "name": "ipython",
    "version": 3
   },
   "file_extension": ".py",
   "mimetype": "text/x-python",
   "name": "python",
   "nbconvert_exporter": "python",
   "pygments_lexer": "ipython3",
   "version": "3.12.3"
  }
 },
 "nbformat": 4,
 "nbformat_minor": 2
}
